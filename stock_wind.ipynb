{
 "cells": [
  {
   "cell_type": "code",
   "execution_count": 1,
   "metadata": {},
   "outputs": [
    {
     "ename": "ImportError",
     "evalue": "No module named 'WindPy'",
     "output_type": "error",
     "traceback": [
      "\u001b[0;31m---------------------------------------------------------------------------\u001b[0m",
      "\u001b[0;31mImportError\u001b[0m                               Traceback (most recent call last)",
      "\u001b[0;32m<ipython-input-1-47bfff73aec2>\u001b[0m in \u001b[0;36m<module>\u001b[0;34m()\u001b[0m\n\u001b[1;32m      1\u001b[0m \u001b[0;31m# -*- coding: utf-8 -*-\u001b[0m\u001b[0;34m\u001b[0m\u001b[0;34m\u001b[0m\u001b[0m\n\u001b[1;32m      2\u001b[0m \u001b[0;34m\u001b[0m\u001b[0m\n\u001b[0;32m----> 3\u001b[0;31m \u001b[0;32mfrom\u001b[0m \u001b[0mWindPy\u001b[0m \u001b[0;32mimport\u001b[0m\u001b[0;34m*\u001b[0m\u001b[0;34m\u001b[0m\u001b[0m\n\u001b[0m\u001b[1;32m      4\u001b[0m \u001b[0;32mimport\u001b[0m \u001b[0mpandas\u001b[0m \u001b[0;32mas\u001b[0m \u001b[0mpd\u001b[0m\u001b[0;34m\u001b[0m\u001b[0m\n\u001b[1;32m      5\u001b[0m \u001b[0;32mimport\u001b[0m \u001b[0mnumpy\u001b[0m \u001b[0;32mas\u001b[0m \u001b[0mnp\u001b[0m\u001b[0;34m\u001b[0m\u001b[0m\n",
      "\u001b[0;31mImportError\u001b[0m: No module named 'WindPy'"
     ]
    }
   ],
   "source": [
    "# -*- coding: utf-8 -*-\n",
    "\n",
    "from WindPy import*\n",
    "import pandas as pd\n",
    "import numpy as np\n",
    "import datetime\n",
    "import time\n",
    "###################\n",
    "w.start()\n",
    "symbol=\"000001.SZ\"\n",
    "start_date=\"2017-01-01\"\n",
    " \n",
    "end_date=\"2017-05-02\"\n",
    " \n",
    "stock=w.wsd(symbol, \"trade_code,open,high,low,close,pre_close,\\\n",
    "                  volume,amt,dealnum,chg,pct_chg,vwap, adjfactor,\\\n",
    "                  close2,turn,free_turn,oi,oi_chg,pre_settle,settle,\\\n",
    "                  chg_settlement,pct_chg_settlement, lastradeday_s,\\\n",
    "                  last_trade_day,rel_ipo_chg,rel_ipo_pct_chg,susp_reason,\\\n",
    "                  close3, pe_ttm,val_pe_deducted_ttm,pe_lyr,pb_lf,\\\n",
    "                  ps_ttm,ps_lyr,dividendyield2,ev,mkt_cap_ard,\\\n",
    "                  pb_mrq,pcf_ocf_ttm,pcf_ncf_ttm,pcf_ocflyr,\\\n",
    "                  pcf_nflyr,trade_status\", start_date,end_date)\n",
    "i=1\n",
    "while i==1:\n",
    "                 index_data = pd.DataFrame()\n",
    "                 index_data['trade_date']=stock.Times\n",
    "                 stock.Data[0]=symbol\n",
    "                 index_data['stock_code']=stock.Data[0]\n",
    "                 #index_data['stock_code'] =symbol\n",
    "                 index_data['open'] =stock.Data[1]\n",
    "                 index_data['high'] =stock.Data[2]\n",
    "                 index_data['low']  =stock.Data[3]\n",
    "                 index_data['close']=stock.Data[4]\n",
    "                 index_data['pre_close']=stock.Data[5]\n",
    "                 index_data['volume']=stock.Data[6]\n",
    "                 index_data['amt']=stock.Data[7]\n",
    "                 index_data['dealnum']=stock.Data[8]\n",
    "                 index_data['chg']=stock.Data[9]\n",
    "                 index_data['pct_chg']=stock.Data[10]\n",
    "                 #index_data['pct_chg']=index_data['pct_chg']/100\n",
    "                 index_data['vwap']=stock.Data[11]\n",
    "                 index_data['adj_factor']=stock.Data[12]\n",
    "                 index_data['close2']=stock.Data[13]\n",
    "                 index_data['turn']=stock.Data[14]\n",
    "                 index_data['free_turn']=stock.Data[15]\n",
    "                 index_data['oi']=stock.Data[16]\n",
    "                 index_data['oi_chg']=stock.Data[17]\n",
    "                 index_data['pre_settle']=stock.Data[18]\n",
    "                 index_data['settle']=stock.Data[19]\n",
    "                 index_data['chg_settlement']=stock.Data[20]\n",
    "                 index_data['pct_chg_settlement']=stock.Data[21]\n",
    "                 index_data['lastradeday_s']=stock.Data[22]\n",
    "                 index_data['last_trade_day']=stock.Data[23]\n",
    "                 index_data['rel_ipo_chg']=stock.Data[24]\n",
    "                 index_data['rel_ipo_pct_chg']=stock.Data[25]\n",
    "                 index_data['susp_reason']=stock.Data[26]\n",
    "                 index_data['close3']=stock.Data[27]\n",
    "                 index_data['pe_ttm']=stock.Data[28]\n",
    "                 index_data['val_pe_deducted_ttm']=stock.Data[29]\n",
    "                 index_data['pe_lyr']=stock.Data[30]\n",
    "                 index_data['pb_lf']=stock.Data[31]\n",
    "                 index_data['ps_ttm']=stock.Data[32]\n",
    "                 index_data['ps_lyr']=stock.Data[33]\n",
    "                 index_data['dividendyield2']=stock.Data[34]\n",
    "                 index_data['ev']=stock.Data[35]\n",
    "                 index_data['mkt_cap_ard']=stock.Data[36]\n",
    "                 index_data['pb_mrq']=stock.Data[37]\n",
    "                 index_data['pcf_ocf_ttm']=stock.Data[38]\n",
    "                 index_data['pcf_ncf_ttm']=stock.Data[39]\n",
    "                 index_data['pcf_ocflyr']=stock.Data[40]\n",
    "                 index_data['pcf_ncflyr']=stock.Data[41]\n",
    "                 index_data['trade_status']=stock.Data[42]\n",
    "                 index_data['data_source']='Wind'\n",
    "                 index_data = index_data[index_data['open'] > 0]\n",
    "                 i=0\n",
    "index_data"
   ]
  },
  {
   "cell_type": "code",
   "execution_count": null,
   "metadata": {},
   "outputs": [],
   "source": []
  }
 ],
 "metadata": {
  "kernelspec": {
   "display_name": "Python 3",
   "language": "python",
   "name": "python3"
  },
  "language_info": {
   "codemirror_mode": {
    "name": "ipython",
    "version": 3
   },
   "file_extension": ".py",
   "mimetype": "text/x-python",
   "name": "python",
   "nbconvert_exporter": "python",
   "pygments_lexer": "ipython3",
   "version": "3.5.2"
  }
 },
 "nbformat": 4,
 "nbformat_minor": 2
}
